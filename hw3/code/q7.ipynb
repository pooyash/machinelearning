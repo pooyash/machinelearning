{
  "nbformat": 4,
  "nbformat_minor": 0,
  "metadata": {
    "colab": {
      "provenance": []
    },
    "kernelspec": {
      "name": "python3",
      "display_name": "Python 3"
    },
    "language_info": {
      "name": "python"
    }
  },
  "cells": [
    {
      "cell_type": "code",
      "execution_count": 99,
      "metadata": {
        "id": "B8seyTzEzU2E"
      },
      "outputs": [],
      "source": [
        "#importing the libraries and tools\n",
        "import matplotlib.pyplot as plt\n",
        "import mpl_toolkits.mplot3d\n",
        "from sklearn import datasets\n",
        "import pandas as pd\n",
        "import numpy as np"
      ]
    },
    {
      "cell_type": "code",
      "source": [
        "#loading data\n",
        "d = pd.read_csv('Iris.csv')\n",
        "x = d[['sepal_length','sepal_width']]\n",
        "y = d[['species']]"
      ],
      "metadata": {
        "id": "XQ0xdf8DzdK-"
      },
      "execution_count": 117,
      "outputs": []
    },
    {
      "cell_type": "code",
      "source": [
        "# partition and giving each partition some vlues\n",
        "x = d.iloc[:, 0:2].values\n",
        "y = d.iloc[:, 4].values"
      ],
      "metadata": {
        "id": "BcutoiZsV6e2"
      },
      "execution_count": 118,
      "outputs": []
    },
    {
      "cell_type": "code",
      "source": [
        "plt.scatter(x[:50, 0], x[:50, 1], color='teal', marker='o', label='setosa')\n",
        "plt.scatter(x[50:100, 0], x[50:100, 1], color='coral', marker='x', label='versicolor')\n",
        "plt.xlabel('petal length')\n",
        "plt.ylabel('sepal length')\n",
        "plt.legend(loc='upper left')\n",
        "plt.show()"
      ],
      "metadata": {
        "colab": {
          "base_uri": "https://localhost:8080/",
          "height": 283
        },
        "id": "cRye162Ldxt7",
        "outputId": "1ba697c7-4dab-4ac9-f3da-751324f1b5b5"
      },
      "execution_count": 128,
      "outputs": [
        {
          "output_type": "display_data",
          "data": {
            "text/plain": [
              "<Figure size 432x288 with 1 Axes>"
            ],
            "image/png": "[encoded data removed]"
          },
          "metadata": {
            "needs_background": "light"
          }
        }
      ]
    },
    {
      "cell_type": "code",
      "source": [
        "class Perceptron:\n",
        "    def __init__(self,learning_rate):\n",
        "        self.baias = 0.0 \n",
        "        self.weight = None\n",
        "        self.mis = []\n",
        "#Fit training data\n",
        "\n",
        "    def fit(self, x: np.array, y: np.array, niter =10):\n",
        "        self.baias = 0.0 \n",
        "        self.weight = np.zeros(x.shape[1])\n",
        "        self.mis = []\n",
        "\n",
        "        for _ in range(niter ):\n",
        "# Number of misclassifications\n",
        "            er = 0\n",
        "            for xi, yi in zip(x, y):\n",
        "                n = 0.1 * (yi - self.predict(xi))\n",
        "                self.baias += n\n",
        "                self.weight += n * xi\n",
        "                er += int(n != 0.0)\n",
        "            self.mis.append(er)\n",
        "#Calculate net input\n",
        "\n",
        "    def f(self, x: np.array) -> float:\n",
        "        return np.dot(x, self.weight) + self.baias\n",
        "# detect class\n",
        "    def predict(self, x: np.array):\n",
        "        return np.where(self.f(x) >= 0, 1, -1)"
      ],
      "metadata": {
        "id": "Hhbhnj3ddxwy"
      },
      "execution_count": 120,
      "outputs": []
    },
    {
      "cell_type": "code",
      "source": [
        "from sklearn.model_selection import train_test_split\n",
        "y = d.iloc[:, 4].values\n",
        "x = d.iloc[:, 0:3].values\n",
        "# reducing the dimensionality of the data\n",
        "x = x[0:100, 0:2]  \n",
        "y = y[0:100]\n",
        "y = np.where(y == 'setosa', 1, -1)\n",
        "x[:, 0] = (x[:, 0] - x[:, 0].mean()) / x[:, 0].std()\n",
        "x[:, 1] = (x[:, 1] - x[:, 1].mean()) / x[:, 1].std()\n",
        "x_trn, x_tst, y_trn, y_tst = train_test_split(x, y, test_size=0.25,random_state=0)\n",
        "classifier = Perceptron(learning_rate=0.01)\n",
        "classifier.fit(x_trn, y_trn)"
      ],
      "metadata": {
        "id": "Z6a0Cp8Tdxz1"
      },
      "execution_count": 121,
      "outputs": []
    },
    {
      "cell_type": "code",
      "source": [
        "from matplotlib.colors import ListedColormap\n",
        "\n",
        "def plot_decision_regions(x, y):\n",
        "    resolution = 0.001\n",
        "    \n",
        "    # define a set of markers\n",
        "    markers = ('x', 'o')\n",
        "    # define available colors\n",
        "    cmap = ListedColormap(('sienna', 'khaki'))\n",
        "    \n",
        "    # select a range of x containing the scaled test set\n",
        "    x1_min, x1_max = x[:, 0].min() - 0.5, x[:, 0].max() + 0.5\n",
        "    x2_min, x2_max = x[:, 1].min() - 0.5, x[:, 1].max() + 0.5\n",
        "    \n",
        "    # create a grid of values to test the classifier on\n",
        "    xx1, xx2 = np.meshgrid(np.arange(x1_min, x1_max, resolution),\n",
        "                           np.arange(x2_min, x2_max, resolution))\n",
        "    \n",
        "    D = classifier.predict(np.array([xx1.ravel(), xx2.ravel()]).T)\n",
        "    D = D.reshape(xx1.shape)\n",
        "    \n",
        "    # plot the decision region...\n",
        "    plt.contourf(xx1, xx2, D, alpha=0.4, cmap=cmap)\n",
        "    plt.xlim(xx1.min(), xx1.max())\n",
        "    plt.ylim(xx2.min(), xx2.max())\n",
        "    \n",
        "    # ...and the points from the test set\n",
        "    for idx, f in enumerate(np.unique(y)):\n",
        "        plt.scatter(x=x[y == f, 0],\n",
        "                    y=x[y == f, 1], \n",
        "                    alpha=0.8, \n",
        "                    c=cmap(idx), \n",
        "                    marker=markers[idx], \n",
        "                    label=f)\n",
        "    plt.show()"
      ],
      "metadata": {
        "id": "dzoCeu-Zdx4l"
      },
      "execution_count": 126,
      "outputs": []
    },
    {
      "cell_type": "code",
      "source": [
        "plot_decision_regions(x_tst, y_tst)"
      ],
      "metadata": {
        "colab": {
          "base_uri": "https://localhost:8080/",
          "height": 320
        },
        "id": "Qw3qDSTNdx9e",
        "outputId": "f5959e50-6e38-4ded-e51a-6958ea9f13e6"
      },
      "execution_count": 127,
      "outputs": [
        {
          "output_type": "stream",
          "name": "stderr",
          "text": [
            "WARNING:matplotlib.axes._axes:*c* argument looks like a single numeric RGB or RGBA sequence, which should be avoided as value-mapping will have precedence in case its length matches with *x* & *y*.  Please use the *color* keyword-argument or provide a 2-D array with a single row if you intend to specify the same RGB or RGBA value for all points.\n",
            "WARNING:matplotlib.axes._axes:*c* argument looks like a single numeric RGB or RGBA sequence, which should be avoided as value-mapping will have precedence in case its length matches with *x* & *y*.  Please use the *color* keyword-argument or provide a 2-D array with a single row if you intend to specify the same RGB or RGBA value for all points.\n"
          ]
        },
        {
          "output_type": "display_data",
          "data": {
            "text/plain": [
              "<Figure size 432x288 with 1 Axes>"
            ],
            "image/png": "[encoded data removed]"
          },
          "metadata": {
            "needs_background": "light"
          }
        }
      ]
    },
    {
      "cell_type": "code",
      "source": [],
      "metadata": {
        "id": "O7YUErDjdyCR"
      },
      "execution_count": null,
      "outputs": []
    },
    {
      "cell_type": "code",
      "source": [],
      "metadata": {
        "id": "ZjWae3rudyF5"
      },
      "execution_count": null,
      "outputs": []
    },
    {
      "cell_type": "code",
      "source": [],
      "metadata": {
        "id": "qFEFU7f9dyHN"
      },
      "execution_count": null,
      "outputs": []
    }
  ]
}